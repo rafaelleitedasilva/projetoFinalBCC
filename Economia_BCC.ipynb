{
  "nbformat": 4,
  "nbformat_minor": 0,
  "metadata": {
    "colab": {
      "provenance": [],
      "include_colab_link": true
    },
    "kernelspec": {
      "name": "python3",
      "display_name": "Python 3"
    },
    "language_info": {
      "name": "python"
    }
  },
  "cells": [
    {
      "cell_type": "markdown",
      "metadata": {
        "id": "view-in-github",
        "colab_type": "text"
      },
      "source": [
        "<a href=\"https://colab.research.google.com/github/rafaelleitedasilva/projetoFinalBCC/blob/main/Economia_BCC.ipynb\" target=\"_parent\"><img src=\"https://colab.research.google.com/assets/colab-badge.svg\" alt=\"Open In Colab\"/></a>"
      ]
    },
    {
      "cell_type": "markdown",
      "source": [
        "## **UFABC - UNIVERSIDADE FEDERAL DO ABC**"
      ],
      "metadata": {
        "id": "vdTg-HxaUosK"
      }
    },
    {
      "cell_type": "markdown",
      "source": [
        "## *YFnance para Manipulação e Análise de Dados do Mercado Financeiro*\n",
        "\n"
      ],
      "metadata": {
        "id": "ZNic6ewnS14T"
      }
    },
    {
      "cell_type": "markdown",
      "source": [
        "\n",
        "\n",
        "> Emanuel Victor da Rocha Ângelo\n",
        ">\n",
        "> Rafael Leite da Silva\n",
        "\n",
        "\n",
        "\n",
        "\n"
      ],
      "metadata": {
        "id": "vFtaPcp3THYw"
      }
    },
    {
      "cell_type": "markdown",
      "source": [
        "##**Sumário:**\n",
        "\n",
        "\n",
        "*   1. Ação\n",
        "*   2. Valor de uma ação\n",
        "*   3. YFinance\n",
        "    *   3.1 Ticker Actions\n",
        "    *   3.2 Ticker History\n",
        "*   4. Outros pacotes Python para análise de mercado financeiro\n",
        "*   5. Conclusão\n",
        "*   6. Referências"
      ],
      "metadata": {
        "id": "ESjTIL7VVSIT"
      }
    },
    {
      "cell_type": "markdown",
      "source": [
        "##**Ação**\n"
      ],
      "metadata": {
        "id": "z9pIQivAXNqz"
      }
    },
    {
      "cell_type": "markdown",
      "source": [
        "\n",
        ">  Ações representam uma fração do capital social de uma empresa. Ao comprar uma \n",
        "ação o investidor se torna sócio da empresa, ou seja, de um negócio. Passa a correr os riscos deste negócio bem como participa dos lucros e prejuízos como qualquer empresário.\n",
        "([XP](  https://www.xpi.com.br/investimentos/acoes/o-que-sao-acoes/#:~:text=A%C3%A7%C3%B5es%20representam%20uma%20fra%C3%A7%C3%A3o%20do,e%20preju%C3%ADzos%20como%20qualquer%20empres%C3%A1rio))\n",
        "\n"
      ],
      "metadata": {
        "id": "u6YNnCyQXl-3"
      }
    },
    {
      "cell_type": "markdown",
      "source": [
        "##**Valor de uma ação**"
      ],
      "metadata": {
        "id": "1B9ceqYpX40c"
      }
    },
    {
      "cell_type": "markdown",
      "source": [
        "> De maneira geral, o preço se refere a quanto uma empresa vale naquele momento, ou seja, por quanto ela está sendo vendida ou comprada.  ([Nubank]( https://blog.nubank.com.br/preco-das-acoes/))"
      ],
      "metadata": {
        "id": "bb13qzDwX9CV"
      }
    },
    {
      "cell_type": "markdown",
      "source": [
        "## **YFinance**\n"
      ],
      "metadata": {
        "id": "LCtunheWckVr"
      }
    },
    {
      "cell_type": "markdown",
      "source": [
        "O **Yahoo Finance** foi criado no fim dos anos 1990 nos Estados Unidos pelos diretores da plataforma. A ideia inicial era reunir dados financeiros para o público com uma linguagem simples e o máximo de informações possíveis.\n",
        "\n",
        "Com o decorrer dos anos o Yahoo foi crescendo em quesito de informações e tec nologia. Atualmente o Yahoo Finance pode ser acessado por meio de APIs, ou no caso desse artigo por meio de bibliotecas."
      ],
      "metadata": {
        "id": "tIUYxZlTcqf2"
      }
    },
    {
      "cell_type": "code",
      "execution_count": 1,
      "metadata": {
        "id": "VyzJVWBq8dKx",
        "colab": {
          "base_uri": "https://localhost:8080/"
        },
        "outputId": "3aeaa3c1-8256-458c-bd79-ccc0e3dcbb26"
      },
      "outputs": [
        {
          "output_type": "stream",
          "name": "stdout",
          "text": [
            "Looking in indexes: https://pypi.org/simple, https://us-python.pkg.dev/colab-wheels/public/simple/\n",
            "Collecting yfinance\n",
            "  Downloading yfinance-0.1.87-py2.py3-none-any.whl (29 kB)\n",
            "Requirement already satisfied: pandas>=0.24.0 in /usr/local/lib/python3.8/dist-packages (from yfinance) (1.3.5)\n",
            "Requirement already satisfied: lxml>=4.5.1 in /usr/local/lib/python3.8/dist-packages (from yfinance) (4.9.1)\n",
            "Requirement already satisfied: appdirs>=1.4.4 in /usr/local/lib/python3.8/dist-packages (from yfinance) (1.4.4)\n",
            "Requirement already satisfied: multitasking>=0.0.7 in /usr/local/lib/python3.8/dist-packages (from yfinance) (0.0.11)\n",
            "Requirement already satisfied: numpy>=1.15 in /usr/local/lib/python3.8/dist-packages (from yfinance) (1.21.6)\n",
            "Collecting requests>=2.26\n",
            "  Downloading requests-2.28.1-py3-none-any.whl (62 kB)\n",
            "\u001b[K     |████████████████████████████████| 62 kB 588 kB/s \n",
            "\u001b[?25hRequirement already satisfied: python-dateutil>=2.7.3 in /usr/local/lib/python3.8/dist-packages (from pandas>=0.24.0->yfinance) (2.8.2)\n",
            "Requirement already satisfied: pytz>=2017.3 in /usr/local/lib/python3.8/dist-packages (from pandas>=0.24.0->yfinance) (2022.6)\n",
            "Requirement already satisfied: six>=1.5 in /usr/local/lib/python3.8/dist-packages (from python-dateutil>=2.7.3->pandas>=0.24.0->yfinance) (1.15.0)\n",
            "Requirement already satisfied: certifi>=2017.4.17 in /usr/local/lib/python3.8/dist-packages (from requests>=2.26->yfinance) (2022.9.24)\n",
            "Requirement already satisfied: urllib3<1.27,>=1.21.1 in /usr/local/lib/python3.8/dist-packages (from requests>=2.26->yfinance) (1.24.3)\n",
            "Requirement already satisfied: charset-normalizer<3,>=2 in /usr/local/lib/python3.8/dist-packages (from requests>=2.26->yfinance) (2.1.1)\n",
            "Requirement already satisfied: idna<4,>=2.5 in /usr/local/lib/python3.8/dist-packages (from requests>=2.26->yfinance) (2.10)\n",
            "Installing collected packages: requests, yfinance\n",
            "  Attempting uninstall: requests\n",
            "    Found existing installation: requests 2.23.0\n",
            "    Uninstalling requests-2.23.0:\n",
            "      Successfully uninstalled requests-2.23.0\n",
            "Successfully installed requests-2.28.1 yfinance-0.1.87\n"
          ]
        }
      ],
      "source": [
        "!pip install yfinance"
      ]
    },
    {
      "cell_type": "markdown",
      "source": [
        "A biblioteca do python que nos permite se conectar com o Yahoo Finance se chama **yfinance**. Ela nos dá acesso a uma classe pai que tem acesso a algumas Funções que nos permite manipular dados do site. Para instala-la basta realizar um \"pip install\" como é demonstrado acima e depois importar a biblioteca como podem ver abaixo.\n"
      ],
      "metadata": {
        "id": "djKXpEqLczQj"
      }
    },
    {
      "cell_type": "markdown",
      "source": [
        "O **YFinance** nos retorna uma coletânea de informações referente a determinada empresa, é claro que a empresa precisa ter o capital aberto para que as suas informações sejam adquiridas publicamente.\n",
        "\n",
        "A empresa que utilziamos de exemplo aqui é a **Petrobras**, sua sigla na bolsa de valores é '**PBR**'. Com essa sigla conseguimos adquirir inúmeras informações referentes a Petrobras desde que a sua entrada na bolsa de valores."
      ],
      "metadata": {
        "id": "E-AFp58lc2ZF"
      }
    },
    {
      "cell_type": "markdown",
      "source": [
        "### **Ticker Actions**"
      ],
      "metadata": {
        "id": "QhBS4ISZdlXq"
      }
    },
    {
      "cell_type": "markdown",
      "source": [
        "Para adquirir as informações referente as ações da empresa precisamos primeiro gerar um objeto por meio da função Ticker que busca no banco de dados da Yfinance a empresa que está associada a determinada sigla."
      ],
      "metadata": {
        "id": "8ADr-l8gdteC"
      }
    },
    {
      "cell_type": "markdown",
      "source": [
        "Caso nenhum erro seja retornado conseguimos manipular o objeto gerado para conseguir quaisquer dados disponibilizado publicamente, e com total liberdade para alterações."
      ],
      "metadata": {
        "id": "j9hkjogqei6X"
      }
    },
    {
      "cell_type": "code",
      "source": [
        "from pandas.core.api import notnull\n",
        "import yfinance as yf\n",
        "import pandas_datareader.data as web\n",
        "import pandas as pd\n",
        "\n",
        "''' data_tickers = pd.read_csv('https://raw.githubusercontent.com/shilewenuw/get_all_tickers/master/get_all_tickers/tickers.csv')\n",
        "display(data_tickers.head(5)) '''\n",
        "\n",
        "#AAPL - Apple Inc\n",
        "#PBR - Petrobras\n",
        "#MMM - 3M\n",
        "\n",
        "print(\"Digite a sigla da empresa na bolsa de valores para saber a sua evolução: \")\n",
        "name_company = input(\"Sigla:\")\n",
        "\n",
        "ticker = yf.Ticker(name_company)\n",
        "aapl_df = ticker.actions\n",
        "\n",
        "\n",
        "aapl_df.plot(title=f\"{ticker.info['shortName']} Stock Splits and Dividends\")"
      ],
      "metadata": {
        "colab": {
          "base_uri": "https://localhost:8080/",
          "height": 337
        },
        "id": "395bo66mIBcA",
        "outputId": "d66bf4bd-e755-41f1-e11e-52cafd2b3194"
      },
      "execution_count": 17,
      "outputs": [
        {
          "name": "stdout",
          "output_type": "stream",
          "text": [
            "Digite a sigla da empresa na bolsa de valores para saber a sua evolução: \n",
            "Sigla:pbr\n"
          ]
        },
        {
          "output_type": "execute_result",
          "data": {
            "text/plain": [
              "<matplotlib.axes._subplots.AxesSubplot at 0x7f1fcde4bd60>"
            ]
          },
          "metadata": {},
          "execution_count": 17
        },
        {
          "output_type": "display_data",
          "data": {
            "text/plain": [
              "<Figure size 432x288 with 1 Axes>"
            ],
            "image/png": "[encoded data removed]"
          },
          "metadata": {
            "needs_background": "light"
          }
        }
      ]
    },
    {
      "cell_type": "markdown",
      "source": [
        "No exemplo acima utilizamos o método \"**actions**\" para gerar o valor das **ações** e **dividendos** da Petrobras desde a sua abertura de capital para o mercado."
      ],
      "metadata": {
        "id": "aP9xZMrFe1-0"
      }
    },
    {
      "cell_type": "markdown",
      "source": [
        "### **Ticker History**"
      ],
      "metadata": {
        "id": "YIw010vHfWAc"
      }
    },
    {
      "cell_type": "markdown",
      "source": [
        "Com a função \"history\" somos capazes de adquirir um **histograma** referente ao **valor de mercado** de determinada empresa, sendo capaz de delimitar por períodos de tempo. No exemplo abaixo mostramos a variação de valor de mercado dos últimos **3 meses** da Petrobras."
      ],
      "metadata": {
        "id": "8i5f_yfPfk3a"
      }
    },
    {
      "cell_type": "code",
      "source": [
        "aapl_3mo = ticker.history(period=\"3mo\")\n",
        "aapl_3mo['Close'].plot(title=f\"Three Months {ticker.info['shortName']}\")"
      ],
      "metadata": {
        "colab": {
          "base_uri": "https://localhost:8080/",
          "height": 318
        },
        "id": "EpK7cR0tkhGa",
        "outputId": "289f572f-6776-4553-8909-ae1ba03b4521"
      },
      "execution_count": 3,
      "outputs": [
        {
          "output_type": "execute_result",
          "data": {
            "text/plain": [
              "<matplotlib.axes._subplots.AxesSubplot at 0x7f1fcef50250>"
            ]
          },
          "metadata": {},
          "execution_count": 3
        },
        {
          "output_type": "display_data",
          "data": {
            "text/plain": [
              "<Figure size 432x288 with 1 Axes>"
            ],
            "image/png": "[encoded data removed]"
          },
          "metadata": {
            "needs_background": "light"
          }
        }
      ]
    },
    {
      "cell_type": "markdown",
      "source": [
        "# **Outros pacotes Python para análise de mercado financeiro:**"
      ],
      "metadata": {
        "id": "sCu2XbSlg-BS"
      }
    },
    {
      "cell_type": "markdown",
      "source": [
        "\n",
        "\n",
        "> Fazer análises no mercado financeiro envolvem muitas variáveis e propósitos distintos. Existem outras bibliotecas que podem ser usadas quando certas demandas não são atendidas pela usada nesse projeto:\n",
        "\n",
        "*   ([yahoo_fin](  http://theautomatic.net/yahoo_fin-documentation/)) : É gratuito e de código aberto. Além da maioria das funcionalidades pertencentes ao YFinance, ele disponibiliza tickers de acordo com um nicho de mercado especifico.\n",
        "\n",
        "*    ([RapidAPI](  https://rapidapi.com/)) : Conta com bastante recursos, como as outras ferramentas utilizadas. Tem desvantagens, como: \n",
        "É necessário cadastrar conta para ter acesso à chave API. Além disso,só é possível fazer mais de 500 requisições mensais mediante pagamento.\n",
        "\n"
      ],
      "metadata": {
        "id": "TcXKzjtFhBrj"
      }
    },
    {
      "cell_type": "markdown",
      "source": [
        "# **Conclusão:**\n"
      ],
      "metadata": {
        "id": "nyNVwyt_dCO5"
      }
    },
    {
      "cell_type": "markdown",
      "source": [
        "Concluimos que a biblioteca do python YFinance contribui positivamente para análises do mercado financeiro, de modo que é possível utilizá-la no cotidiano empresarial e acadêmico."
      ],
      "metadata": {
        "id": "oJrAr9jgdHbL"
      }
    },
    {
      "cell_type": "markdown",
      "source": [
        "# **Referências:**\n",
        "\n",
        "\n",
        "*    https://www.xpi.com.br/investimentos/acoes/o-que-sao-acoes/\n",
        "\n",
        "*    https://blog.nubank.com.br/preco-das-acoes/\n",
        "*https://konkero.com.br/posts/yahoo-finance-entenda-como-funciona\n",
        "\n",
        "* https://pt.wikipedia.org/wiki/Yahoo!_Finance\n",
        "* http://theautomatic.net/yahoo_fin-documentation/\n",
        "* https://rapidapi.com/\n",
        "\n"
      ],
      "metadata": {
        "id": "vm2CmU_nZLMV"
      }
    }
  ]
}